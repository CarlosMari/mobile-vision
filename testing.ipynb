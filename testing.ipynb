{
 "cells": [
  {
   "cell_type": "code",
   "execution_count": 1,
   "id": "88b2907d",
   "metadata": {},
   "outputs": [
    {
     "ename": "ImportError",
     "evalue": "dlopen(/Users/carlosmarinoguera/Documents/EIC LAB ASSIGNMENT/coding_test/lib/python3.12/site-packages/ai_edge_litert/_pywrap_tensorflow_interpreter_wrapper.so, 0x0002): Library not loaded: @rpath/libpywrap_litert_common.dylib\n  Referenced from: <CB0534E3-3664-3BB9-91D0-4EBEEC754660> /Users/carlosmarinoguera/Documents/EIC LAB ASSIGNMENT/coding_test/lib/python3.12/site-packages/ai_edge_litert/_pywrap_tensorflow_interpreter_wrapper.so (built for macOS 15.2 which is newer than running OS)\n  Reason: tried: '/Users/carlosmarinoguera/Documents/EIC LAB ASSIGNMENT/coding_test/lib/python3.12/site-packages/ai_edge_litert/../../_solib_darwin_arm64/_U_S_Slitert_Spython_Cpywrap_Ulitert_Ucommon_Uimport___Ulitert_Spython/libpywrap_litert_common.dylib' (no such file), '/Users/carlosmarinoguera/Documents/EIC LAB ASSIGNMENT/coding_test/lib/python3.12/site-packages/ai_edge_litert/lib_pywrap_litert_4_shared_object.dylib.runfiles/litert/_solib_darwin_arm64/_U_S_Slitert_Spython_Cpywrap_Ulitert_Ucommon_Uimport___Ulitert_Spython/libpywrap_litert_common.dylib' (no such file), '/Users/carlosmarinoguera/Documents/EIC LAB ASSIGNMENT/coding_test/lib/python3.12/site-packages/ai_edge_litert/../../../litert/python/libpywrap_litert_common.dylib' (no such file), '/Users/carlosmarinoguera/Documents/EIC LAB ASSIGNMENT/coding_test/lib/python3.12/site-packages/ai_edge_litert/../libpywrap_litert_common.dylib' (no such file), '/Users/carlosmarinoguera/Documents/EIC LAB ASSIGNMENT/coding_test/lib/python3.12/site-packages/ai_edge_litert/../../../tensorflow/libpywrap_litert_common.dylib' (no such file), '/Users/carlosmarinoguera/Documents/EIC LAB ASSIGNMENT/coding_test/lib/python3.12/site-packages/ai_edge_litert/../../../tensorflow/python/libpywrap_litert_common.dylib' (no such file), '/Users/carlosmarinoguera/Documents/EIC LAB ASSIGNMENT/coding_test/lib/python3.12/site-packages/ai_edge_litert/libpywrap_litert_common.dylib' (no such file), '/Users/carlosmarinoguera/Documents/EIC LAB ASSIGNMENT/coding_test/lib/python3.12/site-packages/ai_edge_litert/../../_solib_darwin_arm64/_U_S_Slitert_Spython_Cpywrap_Ulitert_Ucommon_Uimport___Ulitert_Spython/libpywrap_litert_common.dylib' (no such file), '/Users/carlosmarinoguera/Documents/EIC LAB ASSIGNMENT/coding_test/lib/python3.12/site-packages/ai_edge_litert/lib_pywrap_litert_4_shared_object.dylib.runfiles/litert/_solib_darwin_arm64/_U_S_Slitert_Spython_Cpywrap_Ulitert_Ucommon_Uimport___Ulitert_Spython/libpywrap_litert_common.dylib' (no such file), '/Users/carlosmarinoguera/Documents/EIC LAB ASSIGNMENT/coding_test/lib/python3.12/site-packages/ai_edge_litert/../../../litert/python/libpywrap_litert_common.dylib' (no such file), '/Users/carlosmarinoguera/Documents/EIC LAB ASSIGNMENT/coding_test/lib/python3.12/site-packages/ai_edge_litert/../libpywrap_litert_common.dylib' (no such file), '/Users/carlosmarinoguera/Documents/EIC LAB ASSIGNMENT/coding_test/lib/python3.12/site-packages/ai_edge_litert/../../../tensorflow/libpywrap_litert_common.dylib' (no such file), '/Users/carlosmarinoguera/Documents/EIC LAB ASSIGNMENT/coding_test/lib/python3.12/site-packages/ai_edge_litert/../../../tensorflow/python/libpywrap_litert_common.dylib' (no such file), '/Users/carlosmarinoguera/Documents/EIC LAB ASSIGNMENT/coding_test/lib/python3.12/site-packages/ai_edge_litert/libpywrap_litert_common.dylib' (no such file), '/opt/homebrew/Caskroom/miniconda/base/bin/../lib/libpywrap_litert_common.dylib' (no such file), '/opt/homebrew/Caskroom/miniconda/base/bin/../lib/libpywrap_litert_common.dylib' (no such file)",
     "output_type": "error",
     "traceback": [
      "\u001b[31m---------------------------------------------------------------------------\u001b[39m",
      "\u001b[31mImportError\u001b[39m                               Traceback (most recent call last)",
      "\u001b[36mCell\u001b[39m\u001b[36m \u001b[39m\u001b[32mIn[1]\u001b[39m\u001b[32m, line 1\u001b[39m\n\u001b[32m----> \u001b[39m\u001b[32m1\u001b[39m \u001b[38;5;28;01mimport\u001b[39;00m\u001b[38;5;250m \u001b[39m\u001b[34;01mai_edge_torch\u001b[39;00m\n\u001b[32m      2\u001b[39m \u001b[38;5;28;01mimport\u001b[39;00m\u001b[38;5;250m \u001b[39m\u001b[34;01mtorch\u001b[39;00m\n\u001b[32m      4\u001b[39m \u001b[38;5;66;03m# Your existing model setup\u001b[39;00m\n",
      "\u001b[36mFile \u001b[39m\u001b[32m~/Documents/EIC LAB ASSIGNMENT/coding_test/lib/python3.12/site-packages/ai_edge_torch/__init__.py:16\u001b[39m\n\u001b[32m      1\u001b[39m \u001b[38;5;66;03m# Copyright 2024 The AI Edge Torch Authors.\u001b[39;00m\n\u001b[32m      2\u001b[39m \u001b[38;5;66;03m#\u001b[39;00m\n\u001b[32m      3\u001b[39m \u001b[38;5;66;03m# Licensed under the Apache License, Version 2.0 (the \"License\");\u001b[39;00m\n\u001b[32m   (...)\u001b[39m\u001b[32m     13\u001b[39m \u001b[38;5;66;03m# limitations under the License.\u001b[39;00m\n\u001b[32m     14\u001b[39m \u001b[38;5;66;03m# ==============================================================================\u001b[39;00m\n\u001b[32m     15\u001b[39m \u001b[38;5;28;01mfrom\u001b[39;00m\u001b[38;5;250m \u001b[39m\u001b[34;01mai_edge_torch\u001b[39;00m\u001b[34;01m.\u001b[39;00m\u001b[34;01m_config\u001b[39;00m\u001b[38;5;250m \u001b[39m\u001b[38;5;28;01mimport\u001b[39;00m config\n\u001b[32m---> \u001b[39m\u001b[32m16\u001b[39m \u001b[38;5;28;01mfrom\u001b[39;00m\u001b[38;5;250m \u001b[39m\u001b[34;01mai_edge_torch\u001b[39;00m\u001b[34;01m.\u001b[39;00m\u001b[34;01m_convert\u001b[39;00m\u001b[34;01m.\u001b[39;00m\u001b[34;01mconverter\u001b[39;00m\u001b[38;5;250m \u001b[39m\u001b[38;5;28;01mimport\u001b[39;00m convert\n\u001b[32m     17\u001b[39m \u001b[38;5;28;01mfrom\u001b[39;00m\u001b[38;5;250m \u001b[39m\u001b[34;01mai_edge_torch\u001b[39;00m\u001b[34;01m.\u001b[39;00m\u001b[34;01m_convert\u001b[39;00m\u001b[34;01m.\u001b[39;00m\u001b[34;01mconverter\u001b[39;00m\u001b[38;5;250m \u001b[39m\u001b[38;5;28;01mimport\u001b[39;00m experimental_add_compilation_backend\n\u001b[32m     18\u001b[39m \u001b[38;5;28;01mfrom\u001b[39;00m\u001b[38;5;250m \u001b[39m\u001b[34;01mai_edge_torch\u001b[39;00m\u001b[34;01m.\u001b[39;00m\u001b[34;01m_convert\u001b[39;00m\u001b[34;01m.\u001b[39;00m\u001b[34;01mconverter\u001b[39;00m\u001b[38;5;250m \u001b[39m\u001b[38;5;28;01mimport\u001b[39;00m signature\n",
      "\u001b[36mFile \u001b[39m\u001b[32m~/Documents/EIC LAB ASSIGNMENT/coding_test/lib/python3.12/site-packages/ai_edge_torch/_convert/converter.py:20\u001b[39m\n\u001b[32m     16\u001b[39m \u001b[38;5;28;01mfrom\u001b[39;00m\u001b[38;5;250m \u001b[39m\u001b[34;01m__future__\u001b[39;00m\u001b[38;5;250m \u001b[39m\u001b[38;5;28;01mimport\u001b[39;00m annotations\n\u001b[32m     18\u001b[39m \u001b[38;5;28;01mfrom\u001b[39;00m\u001b[38;5;250m \u001b[39m\u001b[34;01mtyping\u001b[39;00m\u001b[38;5;250m \u001b[39m\u001b[38;5;28;01mimport\u001b[39;00m Any, Literal, Optional, Tuple, Union\n\u001b[32m---> \u001b[39m\u001b[32m20\u001b[39m \u001b[38;5;28;01mfrom\u001b[39;00m\u001b[38;5;250m \u001b[39m\u001b[34;01mai_edge_torch\u001b[39;00m\u001b[38;5;250m \u001b[39m\u001b[38;5;28;01mimport\u001b[39;00m model\n\u001b[32m     21\u001b[39m \u001b[38;5;28;01mfrom\u001b[39;00m\u001b[38;5;250m \u001b[39m\u001b[34;01mai_edge_torch\u001b[39;00m\u001b[34;01m.\u001b[39;00m\u001b[34;01m_convert\u001b[39;00m\u001b[38;5;250m \u001b[39m\u001b[38;5;28;01mimport\u001b[39;00m conversion\n\u001b[32m     22\u001b[39m \u001b[38;5;28;01mfrom\u001b[39;00m\u001b[38;5;250m \u001b[39m\u001b[34;01mai_edge_torch\u001b[39;00m\u001b[34;01m.\u001b[39;00m\u001b[34;01m_convert\u001b[39;00m\u001b[38;5;250m \u001b[39m\u001b[38;5;28;01mimport\u001b[39;00m signature \u001b[38;5;28;01mas\u001b[39;00m signature_module\n",
      "\u001b[36mFile \u001b[39m\u001b[32m~/Documents/EIC LAB ASSIGNMENT/coding_test/lib/python3.12/site-packages/ai_edge_torch/model.py:31\u001b[39m\n\u001b[32m     28\u001b[39m \u001b[38;5;28;01mimport\u001b[39;00m\u001b[38;5;250m \u001b[39m\u001b[34;01mnumpy\u001b[39;00m\u001b[34;01m.\u001b[39;00m\u001b[34;01mtyping\u001b[39;00m\u001b[38;5;250m \u001b[39m\u001b[38;5;28;01mas\u001b[39;00m\u001b[38;5;250m \u001b[39m\u001b[34;01mnpt\u001b[39;00m\n\u001b[32m     29\u001b[39m \u001b[38;5;28;01mimport\u001b[39;00m\u001b[38;5;250m \u001b[39m\u001b[34;01mtensorflow\u001b[39;00m\u001b[38;5;250m \u001b[39m\u001b[38;5;28;01mas\u001b[39;00m\u001b[38;5;250m \u001b[39m\u001b[34;01mtf\u001b[39;00m\n\u001b[32m---> \u001b[39m\u001b[32m31\u001b[39m \u001b[38;5;28;01mfrom\u001b[39;00m\u001b[38;5;250m \u001b[39m\u001b[34;01mai_edge_litert\u001b[39;00m\u001b[38;5;250m \u001b[39m\u001b[38;5;28;01mimport\u001b[39;00m interpreter \u001b[38;5;28;01mas\u001b[39;00m tfl_interpreter  \u001b[38;5;66;03m# pylint: disable=g-direct-tensorflow-import\u001b[39;00m\n\u001b[32m     33\u001b[39m DEFAULT_SIGNATURE_NAME = tf.saved_model.DEFAULT_SERVING_SIGNATURE_DEF_KEY\n\u001b[32m     36\u001b[39m \u001b[38;5;28;01mclass\u001b[39;00m\u001b[38;5;250m \u001b[39m\u001b[34;01mModel\u001b[39;00m(abc.ABC):\n",
      "\u001b[36mFile \u001b[39m\u001b[32m~/Documents/EIC LAB ASSIGNMENT/coding_test/lib/python3.12/site-packages/ai_edge_litert/interpreter.py:34\u001b[39m\n\u001b[32m     31\u001b[39m   \u001b[38;5;28;01mfrom\u001b[39;00m\u001b[38;5;250m \u001b[39m\u001b[34;01mtensorflow\u001b[39;00m\u001b[34;01m.\u001b[39;00m\u001b[34;01mpython\u001b[39;00m\u001b[34;01m.\u001b[39;00m\u001b[34;01mutil\u001b[39;00m\u001b[34;01m.\u001b[39;00m\u001b[34;01mtf_export\u001b[39;00m\u001b[38;5;250m \u001b[39m\u001b[38;5;28;01mimport\u001b[39;00m tf_export \u001b[38;5;28;01mas\u001b[39;00m _tf_export\n\u001b[32m     32\u001b[39m \u001b[38;5;28;01melse\u001b[39;00m:\n\u001b[32m     33\u001b[39m   \u001b[38;5;66;03m# This file is part of ai_edge_litert package.\u001b[39;00m\n\u001b[32m---> \u001b[39m\u001b[32m34\u001b[39m   \u001b[38;5;28;01mfrom\u001b[39;00m\u001b[38;5;250m \u001b[39m\u001b[34;01mai_edge_litert\u001b[39;00m\u001b[38;5;250m \u001b[39m\u001b[38;5;28;01mimport\u001b[39;00m _pywrap_tensorflow_interpreter_wrapper \u001b[38;5;28;01mas\u001b[39;00m _interpreter_wrapper\n\u001b[32m     35\u001b[39m   \u001b[38;5;28;01mfrom\u001b[39;00m\u001b[38;5;250m \u001b[39m\u001b[34;01mai_edge_litert\u001b[39;00m\u001b[38;5;250m \u001b[39m\u001b[38;5;28;01mimport\u001b[39;00m metrics_portable \u001b[38;5;28;01mas\u001b[39;00m metrics\n\u001b[32m     37\u001b[39m   \u001b[38;5;28;01mdef\u001b[39;00m\u001b[38;5;250m \u001b[39m\u001b[34m_tf_export\u001b[39m(*x, **kwargs):\n",
      "\u001b[31mImportError\u001b[39m: dlopen(/Users/carlosmarinoguera/Documents/EIC LAB ASSIGNMENT/coding_test/lib/python3.12/site-packages/ai_edge_litert/_pywrap_tensorflow_interpreter_wrapper.so, 0x0002): Library not loaded: @rpath/libpywrap_litert_common.dylib\n  Referenced from: <CB0534E3-3664-3BB9-91D0-4EBEEC754660> /Users/carlosmarinoguera/Documents/EIC LAB ASSIGNMENT/coding_test/lib/python3.12/site-packages/ai_edge_litert/_pywrap_tensorflow_interpreter_wrapper.so (built for macOS 15.2 which is newer than running OS)\n  Reason: tried: '/Users/carlosmarinoguera/Documents/EIC LAB ASSIGNMENT/coding_test/lib/python3.12/site-packages/ai_edge_litert/../../_solib_darwin_arm64/_U_S_Slitert_Spython_Cpywrap_Ulitert_Ucommon_Uimport___Ulitert_Spython/libpywrap_litert_common.dylib' (no such file), '/Users/carlosmarinoguera/Documents/EIC LAB ASSIGNMENT/coding_test/lib/python3.12/site-packages/ai_edge_litert/lib_pywrap_litert_4_shared_object.dylib.runfiles/litert/_solib_darwin_arm64/_U_S_Slitert_Spython_Cpywrap_Ulitert_Ucommon_Uimport___Ulitert_Spython/libpywrap_litert_common.dylib' (no such file), '/Users/carlosmarinoguera/Documents/EIC LAB ASSIGNMENT/coding_test/lib/python3.12/site-packages/ai_edge_litert/../../../litert/python/libpywrap_litert_common.dylib' (no such file), '/Users/carlosmarinoguera/Documents/EIC LAB ASSIGNMENT/coding_test/lib/python3.12/site-packages/ai_edge_litert/../libpywrap_litert_common.dylib' (no such file), '/Users/carlosmarinoguera/Documents/EIC LAB ASSIGNMENT/coding_test/lib/python3.12/site-packages/ai_edge_litert/../../../tensorflow/libpywrap_litert_common.dylib' (no such file), '/Users/carlosmarinoguera/Documents/EIC LAB ASSIGNMENT/coding_test/lib/python3.12/site-packages/ai_edge_litert/../../../tensorflow/python/libpywrap_litert_common.dylib' (no such file), '/Users/carlosmarinoguera/Documents/EIC LAB ASSIGNMENT/coding_test/lib/python3.12/site-packages/ai_edge_litert/libpywrap_litert_common.dylib' (no such file), '/Users/carlosmarinoguera/Documents/EIC LAB ASSIGNMENT/coding_test/lib/python3.12/site-packages/ai_edge_litert/../../_solib_darwin_arm64/_U_S_Slitert_Spython_Cpywrap_Ulitert_Ucommon_Uimport___Ulitert_Spython/libpywrap_litert_common.dylib' (no such file), '/Users/carlosmarinoguera/Documents/EIC LAB ASSIGNMENT/coding_test/lib/python3.12/site-packages/ai_edge_litert/lib_pywrap_litert_4_shared_object.dylib.runfiles/litert/_solib_darwin_arm64/_U_S_Slitert_Spython_Cpywrap_Ulitert_Ucommon_Uimport___Ulitert_Spython/libpywrap_litert_common.dylib' (no such file), '/Users/carlosmarinoguera/Documents/EIC LAB ASSIGNMENT/coding_test/lib/python3.12/site-packages/ai_edge_litert/../../../litert/python/libpywrap_litert_common.dylib' (no such file), '/Users/carlosmarinoguera/Documents/EIC LAB ASSIGNMENT/coding_test/lib/python3.12/site-packages/ai_edge_litert/../libpywrap_litert_common.dylib' (no such file), '/Users/carlosmarinoguera/Documents/EIC LAB ASSIGNMENT/coding_test/lib/python3.12/site-packages/ai_edge_litert/../../../tensorflow/libpywrap_litert_common.dylib' (no such file), '/Users/carlosmarinoguera/Documents/EIC LAB ASSIGNMENT/coding_test/lib/python3.12/site-packages/ai_edge_litert/../../../tensorflow/python/libpywrap_litert_common.dylib' (no such file), '/Users/carlosmarinoguera/Documents/EIC LAB ASSIGNMENT/coding_test/lib/python3.12/site-packages/ai_edge_litert/libpywrap_litert_common.dylib' (no such file), '/opt/homebrew/Caskroom/miniconda/base/bin/../lib/libpywrap_litert_common.dylib' (no such file), '/opt/homebrew/Caskroom/miniconda/base/bin/../lib/libpywrap_litert_common.dylib' (no such file)"
     ]
    }
   ],
   "source": [
    "\n",
    "import ai_edge_torch\n",
    "import torch\n",
    "\n",
    "# Your existing model setup\n",
    "from mobile_cv.model_zoo.models.fbnet_v2 import fbnet\n",
    "model = fbnet(\"fbnet_a\", pretrained=True)\n",
    "model.eval()\n",
    "\n",
    "# Convert directly to TFLite\n",
    "dummy_input = torch.randn(1, 3, 224, 224)\n",
    "\n",
    "# Convert\n",
    "edge_model = ai_edge_torch.convert(model, (dummy_input,))\n",
    "\n",
    "# Save the TFLite model\n",
    "edge_model.export(\"fbnet_a.tflite\")"
   ]
  },
  {
   "cell_type": "code",
   "execution_count": null,
   "id": "06e1d1a7",
   "metadata": {},
   "outputs": [
    {
     "name": "stdout",
     "output_type": "stream",
     "text": [
      "Importing fbnet_v2 from mobile_cv.model_zoo.models ...\n"
     ]
    },
    {
     "name": "stderr",
     "output_type": "stream",
     "text": [
      "/Users/carlosmarinoguera/Documents/EIC LAB ASSIGNMENT/mobile_vision/mobile_cv/model_zoo/models/utils.py:41: UserWarning: pkg_resources is deprecated as an API. See https://setuptools.pypa.io/en/latest/pkg_resources.html. The pkg_resources package is slated for removal as early as 2025-11-30. Refrain from using this package or pin to Setuptools<81.\n",
      "  import pkg_resources\n"
     ]
    },
    {
     "name": "stdout",
     "output_type": "stream",
     "text": [
      "Importing model_jit from mobile_cv.model_zoo.models ...\n",
      "Importing model_torchvision from mobile_cv.model_zoo.models ...\n"
     ]
    },
    {
     "name": "stderr",
     "output_type": "stream",
     "text": [
      "Arguments ['width_divisor'] skipped for op Conv2d\n",
      "Arguments ['width_divisor'] skipped for op Conv2d\n",
      "/var/folders/q0/lzrls2551w3btk7nl0c8dknw0000gn/T/ipykernel_94836/5817165.py:44: DeprecationWarning: You are using the legacy TorchScript-based ONNX export. Starting in PyTorch 2.9, the new torch.export-based ONNX exporter will be the default. To switch now, set dynamo=True in torch.onnx.export. This new exporter supports features like exporting LLMs with DynamicCache. We encourage you to try it and share feedback to help improve the experience. Learn more about the new export logic: https://pytorch.org/docs/stable/onnx_dynamo.html. For exporting control flow: https://pytorch.org/tutorials/beginner/onnx/export_control_flow_model_to_onnx_tutorial.html.\n",
      "  torch.onnx.export(\n"
     ]
    }
   ],
   "source": [
    "from mobile_cv.model_zoo.models.fbnet_v2 import fbnet\n",
    "from mobile_cv.model_zoo.models.preprocess import get_preprocess\n",
    "import functools\n",
    "import torch\n",
    "import requests\n",
    "from io import BytesIO\n",
    "from PIL import Image\n",
    "\n",
    "from torch.onnx import dynamo_export\n",
    "\n",
    "\n",
    "torch.load = functools.partial(torch.load, weights_only=False)\n",
    "torch.load = torch.__dict__[\"load\"]\n",
    "\n",
    "model_name = \"fbnet_a\"\n",
    "model = fbnet(model_name, pretrained=True)\n",
    "model.eval()\n",
    "\n",
    "\n",
    "# 2. dummy input (batch=1, 3x224x224)\n",
    "dummy_input = torch.randn(1, 3, 224, 224, device=\"cpu\")\n",
    "\n",
    "# 3. export\n",
    "'''torch.onnx.export(\n",
    "    model, \n",
    "    dummy_input, \n",
    "    \"fbnet_a.onnx\",\n",
    "    export_params=True,\n",
    "    opset_version=13,    # Use >=11\n",
    "    do_constant_folding=True,\n",
    "    input_names=[\"input\"],\n",
    "    output_names=[\"output\"],\n",
    "    #dynamo=True,\n",
    ")'''\n",
    "#exported_program = dynamo_export(model, dummy_input)\n",
    "#exported_program.save(\"fbnet_a.onnx\")\n",
    "\n",
    "\n",
    "#torch.onnx.export(exported_program, dummy_input, \"fbnet_a.onnx\")\n",
    "# OR go back to regular export:\n",
    "\n",
    "\n",
    "# Try with verbose mode to see what's happening\n",
    "torch.onnx.export(\n",
    "    model, \n",
    "    dummy_input, \n",
    "    \"fbnet_a.onnx\",\n",
    "    export_params=True,\n",
    "    opset_version=13,\n",
    "    do_constant_folding=True,\n",
    "    input_names=[\"input\"],\n",
    "    output_names=[\"output\"],\n",
    "    verbose=True,  # Add this to see progress\n",
    ")"
   ]
  },
  {
   "cell_type": "code",
   "execution_count": 10,
   "id": "da8f7b6f",
   "metadata": {},
   "outputs": [
    {
     "ename": "RuntimeError",
     "evalue": "/Users/runner/work/onnx/onnx/onnx/version_converter/adapters/axes_input_to_attribute.h:65: adapt: Assertion `node->hasAttribute(kaxes)` failed: No initializer or constant input to node found",
     "output_type": "error",
     "traceback": [
      "\u001b[31m---------------------------------------------------------------------------\u001b[39m",
      "\u001b[31mRuntimeError\u001b[39m                              Traceback (most recent call last)",
      "\u001b[36mCell\u001b[39m\u001b[36m \u001b[39m\u001b[32mIn[10]\u001b[39m\u001b[32m, line 5\u001b[39m\n\u001b[32m      2\u001b[39m \u001b[38;5;28;01mfrom\u001b[39;00m\u001b[38;5;250m \u001b[39m\u001b[34;01monnx\u001b[39;00m\u001b[38;5;250m \u001b[39m\u001b[38;5;28;01mimport\u001b[39;00m version_converter\n\u001b[32m      4\u001b[39m model = onnx.load(\u001b[33m\"\u001b[39m\u001b[33mfbnet_a.onnx\u001b[39m\u001b[33m\"\u001b[39m)\n\u001b[32m----> \u001b[39m\u001b[32m5\u001b[39m converted = \u001b[43mversion_converter\u001b[49m\u001b[43m.\u001b[49m\u001b[43mconvert_version\u001b[49m\u001b[43m(\u001b[49m\u001b[43mmodel\u001b[49m\u001b[43m,\u001b[49m\u001b[43m \u001b[49m\u001b[32;43m13\u001b[39;49m\u001b[43m)\u001b[49m\n\u001b[32m      6\u001b[39m onnx.save(converted, \u001b[33m\"\u001b[39m\u001b[33mfbnet_a_opset13.onnx\u001b[39m\u001b[33m\"\u001b[39m)\n",
      "\u001b[36mFile \u001b[39m\u001b[32m~/Documents/EIC LAB ASSIGNMENT/coding_test/lib/python3.12/site-packages/onnx/version_converter.py:39\u001b[39m, in \u001b[36mconvert_version\u001b[39m\u001b[34m(model, target_version)\u001b[39m\n\u001b[32m     37\u001b[39m model_str = model.SerializeToString()\n\u001b[32m     38\u001b[39m converted_model_str = C.convert_version(model_str, target_version)\n\u001b[32m---> \u001b[39m\u001b[32m39\u001b[39m \u001b[38;5;28;01mreturn\u001b[39;00m onnx.load_from_string(converted_model_str)\n",
      "\u001b[31mRuntimeError\u001b[39m: /Users/runner/work/onnx/onnx/onnx/version_converter/adapters/axes_input_to_attribute.h:65: adapt: Assertion `node->hasAttribute(kaxes)` failed: No initializer or constant input to node found"
     ]
    }
   ],
   "source": [
    "import onnx\n",
    "from onnx import version_converter\n",
    "\n",
    "model = onnx.load(\"fbnet_a.onnx\")\n",
    "converted = version_converter.convert_version(model, 13)\n",
    "onnx.save(converted, \"fbnet_a_opset13.onnx\")"
   ]
  },
  {
   "cell_type": "code",
   "execution_count": 4,
   "id": "2a16ff57",
   "metadata": {},
   "outputs": [
    {
     "name": "stdout",
     "output_type": "stream",
     "text": [
      "ONNX output shape: (1, 1000)\n"
     ]
    }
   ],
   "source": [
    "import onnxruntime as ort\n",
    "import numpy as np\n",
    "from PIL import Image\n",
    "import requests\n",
    "import torchvision.transforms as transforms\n",
    "from io import BytesIO\n",
    "\n",
    "# Load ONNX model\n",
    "ort_sess = ort.InferenceSession(\"fbnet_a.onnx\")\n",
    "\n",
    "# Preprocessing (ImageNet normalisation)\n",
    "transform = transforms.Compose([\n",
    "    transforms.Resize(256),\n",
    "    transforms.CenterCrop(224),\n",
    "    transforms.ToTensor(),\n",
    "    transforms.Normalize([0.485, 0.456, 0.406],\n",
    "                         [0.229, 0.224, 0.225])\n",
    "])\n",
    "\n",
    "# Example ImageNet sample\n",
    "url = \"https://github.com/pytorch/hub/raw/master/images/dog.jpg\"\n",
    "image = Image.open(BytesIO(requests.get(url).content)).convert(\"RGB\")\n",
    "x = transform(image).unsqueeze(0).numpy()\n",
    "\n",
    "# Run inference in ONNXRuntime\n",
    "outputs = ort_sess.run(None, {\"x\": x})\n",
    "print(\"ONNX output shape:\", outputs[0].shape)  # should be (1, 1000)"
   ]
  },
  {
   "cell_type": "markdown",
   "id": "f8252269",
   "metadata": {},
   "source": [
    "cmd onnx-tf convert -i fbnet_a.onnx -o fbnet_a_tf\n",
    "python -m tf2onnx.convert --opset 13 --onnx fbnet_a.onnx --saved-model fbnet_a_tf\n"
   ]
  },
  {
   "cell_type": "code",
   "execution_count": null,
   "id": "594ddc4e",
   "metadata": {},
   "outputs": [],
   "source": []
  },
  {
   "cell_type": "code",
   "execution_count": null,
   "id": "eaa5bb17",
   "metadata": {},
   "outputs": [],
   "source": []
  }
 ],
 "metadata": {
  "kernelspec": {
   "display_name": "coding_test (3.12.11)",
   "language": "python",
   "name": "python3"
  },
  "language_info": {
   "codemirror_mode": {
    "name": "ipython",
    "version": 3
   },
   "file_extension": ".py",
   "mimetype": "text/x-python",
   "name": "python",
   "nbconvert_exporter": "python",
   "pygments_lexer": "ipython3",
   "version": "3.12.11"
  }
 },
 "nbformat": 4,
 "nbformat_minor": 5
}
